{
  "nbformat": 4,
  "nbformat_minor": 0,
  "metadata": {
    "colab": {
      "provenance": [],
      "authorship_tag": "ABX9TyNxh/0pnjqQFgxP/LkuNEEt",
      "include_colab_link": true
    },
    "kernelspec": {
      "name": "python3",
      "display_name": "Python 3"
    },
    "language_info": {
      "name": "python"
    }
  },
  "cells": [
    {
      "cell_type": "markdown",
      "metadata": {
        "id": "view-in-github",
        "colab_type": "text"
      },
      "source": [
        "<a href=\"https://colab.research.google.com/github/Sneara0/CLI/blob/main/ABC_Company.ipynb\" target=\"_parent\"><img src=\"https://colab.research.google.com/assets/colab-badge.svg\" alt=\"Open In Colab\"/></a>"
      ]
    },
    {
      "cell_type": "code",
      "execution_count": 1,
      "metadata": {
        "id": "Bv1nXPJp0P5y"
      },
      "outputs": [],
      "source": []
    },
    {
      "cell_type": "code",
      "source": [
        "from google.colab import drive\n",
        "drive.mount('/content/drive')"
      ],
      "metadata": {
        "colab": {
          "base_uri": "https://localhost:8080/"
        },
        "id": "MVauZbFleRZh",
        "outputId": "ef7a7acc-7610-40e6-e820-9db6b5c2b031"
      },
      "execution_count": 2,
      "outputs": [
        {
          "output_type": "stream",
          "name": "stdout",
          "text": [
            "Mounted at /content/drive\n"
          ]
        }
      ]
    },
    {
      "cell_type": "code",
      "source": [
        "class Employee:\n",
        "    def __init__(self, emp_id, name, designation, email):\n",
        "        self.emp_id = emp_id\n",
        "        self.name = name\n",
        "        self.designation = designation\n",
        "        self.email = email"
      ],
      "metadata": {
        "id": "Zb75w9sHfVlV"
      },
      "execution_count": 3,
      "outputs": []
    },
    {
      "cell_type": "code",
      "source": [
        "  def to_dict(self):\n",
        "        return {\n",
        "            \"emp_id\": self.emp_id,\n",
        "            \"name\": self.name,\n",
        "            \"designation\": self.designation,\n",
        "            \"email\": self.email,}"
      ],
      "metadata": {
        "id": "qeyfzrekhgeR"
      },
      "execution_count": 5,
      "outputs": []
    },
    {
      "cell_type": "code",
      "source": [
        " @staticmethod\n",
        " def from_dict(data):\n",
        "     return Employee(\n",
        "            emp_id=data[\"emp_id\"],\n",
        "            name=data[\"name\"],\n",
        "            designation=data[\"designation\"],\n",
        "            email=data[\"email\"],\n",
        "        )"
      ],
      "metadata": {
        "id": "9F22aOAAiBs8"
      },
      "execution_count": 8,
      "outputs": []
    },
    {
      "cell_type": "code",
      "source": [
        "import os\n",
        "import json\n",
        "#from employee import Employee\n",
        "\n",
        "STORAGE_FILE = \"storage.txt\""
      ],
      "metadata": {
        "id": "hHTrDZntiTbx"
      },
      "execution_count": 9,
      "outputs": []
    },
    {
      "cell_type": "code",
      "source": [
        "import os\n",
        "import json\n",
        "#from employee import Employee\n",
        "\n",
        "STORAGE_FILE = \"storage.txt\""
      ],
      "metadata": {
        "id": "VQM_rTnoidCi"
      },
      "execution_count": 10,
      "outputs": []
    },
    {
      "cell_type": "code",
      "source": [
        "\n",
        "# Utility function to save employee data to a file\n",
        "def save_employees(employees):\n",
        "    with open(STORAGE_FILE, \"w\") as file:\n",
        "        for emp in employees:\n",
        "            file.write(json.dumps(emp.to_dict()) + \"\\n\")"
      ],
      "metadata": {
        "id": "Wiyub8DPirgS"
      },
      "execution_count": 11,
      "outputs": []
    },
    {
      "cell_type": "code",
      "source": [
        "# Add a new employee\n",
        "def add_employee():\n",
        "    employees = load_employees()\n",
        "    emp_id = len(employees) + 1\n",
        "    name = input(\"Enter employee name: \")\n",
        "    designation = input(\"Enter employee designation: \")\n",
        "    email = input(\"Enter employee email: \")\n",
        "\n",
        "    new_employee = Employee(emp_id, name, designation, email)\n",
        "    employees.append(new_employee)\n",
        "    save_employees(employees)\n",
        "    print(\"Employee added successfully!\")"
      ],
      "metadata": {
        "id": "Imd90hHEiupP"
      },
      "execution_count": 12,
      "outputs": []
    },
    {
      "cell_type": "code",
      "source": [
        "\n",
        "# Update an employee\n",
        "def update_employee():\n",
        "    employees = load_employees()\n",
        "    emp_id = int(input(\"Enter the ID of the employee to update: \"))\n",
        "    for emp in employees:\n",
        "        if emp.emp_id == emp_id:\n",
        "            emp.name = input(f\"Enter new name (current: {emp.name}): \") or emp.name\n",
        "            emp.designation = input(f\"Enter new designation (current: {emp.designation}): \") or emp.designation\n",
        "            emp.email = input(f\"Enter new email (current: {emp.email}): \") or emp.email\n",
        "            save_employees(employees)\n",
        "            print(\"Employee updated successfully!\")\n",
        "            return\n",
        "    print(\"Employee not found!\")"
      ],
      "metadata": {
        "id": "71h57hEQi1pz"
      },
      "execution_count": 13,
      "outputs": []
    },
    {
      "cell_type": "code",
      "source": [
        "\n",
        "# Delete an employee\n",
        "def delete_employee():\n",
        "    employees = load_employees()\n",
        "    emp_id = int(input(\"Enter the ID of the employee to delete: \"))\n",
        "    employees = [emp for emp in employees if emp.emp_id != emp_id]\n",
        "    save_employees(employees)\n",
        "    print(\"Employee deleted successfully!\")"
      ],
      "metadata": {
        "id": "9pWGR6iWi7qM"
      },
      "execution_count": 14,
      "outputs": []
    },
    {
      "cell_type": "code",
      "source": [
        "# View all employees\n",
        "def view_employees():\n",
        "    employees = load_employees()\n",
        "    if not employees:\n",
        "        print(\"No employees found!\")\n",
        "        return\n",
        "    for emp in employees:\n",
        "        print(f\"ID: {emp.emp_id}, Name: {emp.name}, Designation: {emp.designation}, Email: {emp.email}\")\n"
      ],
      "metadata": {
        "id": "ag_ZsHJojBC2"
      },
      "execution_count": 15,
      "outputs": []
    },
    {
      "cell_type": "code",
      "source": [
        " #Search for employees\n",
        "def search_employee():\n",
        "    employees = load_employees()\n",
        "    query = input(\"Enter name or designation to search: \").lower()\n",
        "    results = [emp for emp in employees if query in emp.name.lower() or query in emp.designation.lower()]\n",
        "    if not results:\n",
        "        print(\"No matching employees found!\")\n",
        "        return\n",
        "    for emp in results:\n",
        "        print(f\"ID: {emp.emp_id}, Name: {emp.name}, Designation: {emp.designation}, Email: {emp.email}\")#"
      ],
      "metadata": {
        "id": "pKoPh16cjGwE"
      },
      "execution_count": 17,
      "outputs": []
    },
    {
      "cell_type": "code",
      "source": [
        "def main():\n",
        "    while True:\n",
        "        print(\"\\n=== Employee Management System ===\")\n",
        "        print(\"1. Add Employee\")\n",
        "        print(\"2. Update Employee\")\n",
        "        print(\"3. Delete Employee\")\n",
        "        print(\"4. View All Employees\")\n",
        "        print(\"5. Search Employees\")\n",
        "        print(\"6. Exit\")\n",
        "        choice = input(\"Enter your choice: \")\n",
        "\n",
        "        if choice == \"1\":\n",
        "            add_employee()\n",
        "        elif choice == \"2\":\n",
        "            update_employee()\n",
        "        elif choice == \"3\":\n",
        "            delete_employee()\n",
        "        elif choice == \"4\":\n",
        "            view_employees()\n",
        "        elif choice == \"5\":\n",
        "            search_employee()\n",
        "        elif choice == \"6\":\n",
        "            print(\"Exiting... Goodbye!\")\n",
        "            break\n",
        "        else:\n",
        "            print(\"Invalid choice. Please try again!\")\n",
        "\n",
        "\n",
        "if __name__ == \"__main__\":\n",
        "    main()"
      ],
      "metadata": {
        "colab": {
          "base_uri": "https://localhost:8080/"
        },
        "id": "RJdQr4K4oFii",
        "outputId": "b160e5a2-d0cd-40d3-a110-957623a60405"
      },
      "execution_count": null,
      "outputs": [
        {
          "metadata": {
            "tags": null
          },
          "name": "stdout",
          "output_type": "stream",
          "text": [
            "\n",
            "=== Employee Management System ===\n",
            "1. Add Employee\n",
            "2. Update Employee\n",
            "3. Delete Employee\n",
            "4. View All Employees\n",
            "5. Search Employees\n",
            "6. Exit\n"
          ]
        }
      ]
    }
  ]
}